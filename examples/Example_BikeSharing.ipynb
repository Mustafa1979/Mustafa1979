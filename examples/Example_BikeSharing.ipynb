{
  "cells": [
    {
      "cell_type": "markdown",
      "id": "4dcc4977",
      "metadata": {
        "id": "4dcc4977"
      },
      "source": [
        "# BikeSharing Data\n",
        "\n",
        "This notebook demonstrates how to use PiML in its low-code mode for developing machine learning models for the BikeSharing data from UCI repository, which consists of 17,389 samples of hourly counts of rental bikes in Capital bikeshare system; see details [here](https://archive.ics.uci.edu/ml/datasets/bike+sharing+dataset).\n",
        "\n",
        "The response `cnt` (hourly bike rental counts) is continuous and it is a regression problem.\n",
        "\n",
        "Click the ipynb links to run examples in [Google Colab](https://colab.research.google.com/github/SelfExplainML/PiML-Toolbox/blob/main/examples/Example_BikeSharing.ipynb)."
      ]
    },
    {
      "cell_type": "code",
      "execution_count": 3,
      "id": "d0a6471b",
      "metadata": {
        "id": "d0a6471b",
        "outputId": "f798f723-c8a6-4bd0-82a1-4427b57edae6",
        "colab": {
          "base_uri": "https://localhost:8080/"
        }
      },
      "outputs": [
        {
          "output_type": "stream",
          "name": "stdout",
          "text": [
            "\u001b[31mERROR: Could not find a version that satisfies the requirement piml (from versions: none)\u001b[0m\u001b[31m\n",
            "\u001b[0m\u001b[31mERROR: No matching distribution found for piml\u001b[0m\u001b[31m\n",
            "\u001b[0m"
          ]
        }
      ],
      "source": [
        "!pip install piml"
      ]
    },
    {
      "cell_type": "markdown",
      "id": "9f83de49",
      "metadata": {
        "id": "9f83de49"
      },
      "source": [
        "## Load and Prepare Data"
      ]
    },
    {
      "cell_type": "code",
      "execution_count": 4,
      "id": "02de0957",
      "metadata": {
        "id": "02de0957",
        "outputId": "a2d0ac89-c9df-4ca7-9112-4cb626f9ed38",
        "colab": {
          "base_uri": "https://localhost:8080/",
          "height": 332
        }
      },
      "outputs": [
        {
          "output_type": "error",
          "ename": "ModuleNotFoundError",
          "evalue": "No module named 'piml'",
          "traceback": [
            "\u001b[0;31m---------------------------------------------------------------------------\u001b[0m",
            "\u001b[0;31mModuleNotFoundError\u001b[0m                       Traceback (most recent call last)",
            "\u001b[0;32m<ipython-input-4-cf5a1d3d4c77>\u001b[0m in \u001b[0;36m<cell line: 0>\u001b[0;34m()\u001b[0m\n\u001b[0;32m----> 1\u001b[0;31m \u001b[0;32mfrom\u001b[0m \u001b[0mpiml\u001b[0m \u001b[0;32mimport\u001b[0m \u001b[0mExperiment\u001b[0m\u001b[0;34m\u001b[0m\u001b[0;34m\u001b[0m\u001b[0m\n\u001b[0m\u001b[1;32m      2\u001b[0m \u001b[0mexp\u001b[0m \u001b[0;34m=\u001b[0m \u001b[0mExperiment\u001b[0m\u001b[0;34m(\u001b[0m\u001b[0;34m)\u001b[0m\u001b[0;34m\u001b[0m\u001b[0;34m\u001b[0m\u001b[0m\n",
            "\u001b[0;31mModuleNotFoundError\u001b[0m: No module named 'piml'",
            "",
            "\u001b[0;31m---------------------------------------------------------------------------\u001b[0;32m\nNOTE: If your import is failing due to a missing package, you can\nmanually install dependencies using either !pip or !apt.\n\nTo view examples of installing some common dependencies, click the\n\"Open Examples\" button below.\n\u001b[0;31m---------------------------------------------------------------------------\u001b[0m\n"
          ],
          "errorDetails": {
            "actions": [
              {
                "action": "open_url",
                "actionText": "Open Examples",
                "url": "/notebooks/snippets/importing_libraries.ipynb"
              }
            ]
          }
        }
      ],
      "source": [
        "from piml import Experiment\n",
        "exp = Experiment()"
      ]
    },
    {
      "cell_type": "code",
      "execution_count": null,
      "id": "23cb022e",
      "metadata": {
        "id": "23cb022e"
      },
      "outputs": [],
      "source": [
        "# Choose BikeSharing\n",
        "exp.data_loader()"
      ]
    },
    {
      "cell_type": "code",
      "execution_count": null,
      "id": "056e8c5b",
      "metadata": {
        "id": "056e8c5b"
      },
      "outputs": [],
      "source": [
        "# Exclude these features one-by-one: \"yr\", \"mnth\", \"temp\"\n",
        "exp.data_summary()"
      ]
    },
    {
      "cell_type": "code",
      "execution_count": null,
      "id": "a1c3696f",
      "metadata": {
        "id": "a1c3696f"
      },
      "outputs": [],
      "source": [
        "# Prepare dataset with default settings\n",
        "exp.data_prepare()"
      ]
    },
    {
      "cell_type": "code",
      "execution_count": null,
      "id": "c3a3b779",
      "metadata": {
        "id": "c3a3b779"
      },
      "outputs": [],
      "source": [
        "exp.feature_select()"
      ]
    },
    {
      "cell_type": "code",
      "execution_count": null,
      "id": "f12cfa31",
      "metadata": {
        "id": "f12cfa31"
      },
      "outputs": [],
      "source": [
        "# Exploratory data analysis, check distribution and correlation\n",
        "exp.eda()"
      ]
    },
    {
      "cell_type": "markdown",
      "id": "808d9dc2",
      "metadata": {
        "id": "808d9dc2"
      },
      "source": [
        "## Train Intepretable Models"
      ]
    },
    {
      "cell_type": "code",
      "execution_count": null,
      "id": "a3a1272f",
      "metadata": {
        "id": "a3a1272f"
      },
      "outputs": [],
      "source": [
        "# Choose model(s), customize if needed, click Run to train, then register the trained models one by one.\n",
        "exp.model_train()"
      ]
    },
    {
      "cell_type": "markdown",
      "id": "753a15e3",
      "metadata": {
        "id": "753a15e3"
      },
      "source": [
        "## Interpretability and Explainability"
      ]
    },
    {
      "cell_type": "code",
      "execution_count": null,
      "id": "b150859d",
      "metadata": {
        "id": "b150859d"
      },
      "outputs": [],
      "source": [
        "# Model-specific inherent interpretability:  feature importance, main effects and pairwise interactions.\n",
        "exp.model_interpret()"
      ]
    },
    {
      "cell_type": "code",
      "execution_count": null,
      "id": "4458706d",
      "metadata": {
        "id": "4458706d"
      },
      "outputs": [],
      "source": [
        "# Model-agnostic post-hoc explanability: global methods (PFI, PDP, ALE) and local methods (LIME, SHAP)\n",
        "exp.model_explain()"
      ]
    },
    {
      "cell_type": "markdown",
      "id": "9ef57497",
      "metadata": {
        "id": "9ef57497"
      },
      "source": [
        "## Model Diagnostics and Outcome Testing"
      ]
    },
    {
      "cell_type": "code",
      "execution_count": null,
      "id": "2ebf67ed",
      "metadata": {
        "id": "2ebf67ed"
      },
      "outputs": [],
      "source": [
        "exp.model_diagnose()"
      ]
    },
    {
      "cell_type": "markdown",
      "id": "f3164a0a",
      "metadata": {
        "tags": [],
        "id": "f3164a0a"
      },
      "source": [
        "## Model Comparison and Benchmarking"
      ]
    },
    {
      "cell_type": "code",
      "execution_count": null,
      "id": "c8797570",
      "metadata": {
        "id": "c8797570"
      },
      "outputs": [],
      "source": [
        "exp.model_compare()"
      ]
    },
    {
      "cell_type": "code",
      "execution_count": null,
      "id": "8080ed5a",
      "metadata": {
        "id": "8080ed5a"
      },
      "outputs": [],
      "source": []
    }
  ],
  "metadata": {
    "kernelspec": {
      "display_name": "Python 3 (ipykernel)",
      "language": "python",
      "name": "python3"
    },
    "language_info": {
      "codemirror_mode": {
        "name": "ipython",
        "version": 3
      },
      "file_extension": ".py",
      "mimetype": "text/x-python",
      "name": "python",
      "nbconvert_exporter": "python",
      "pygments_lexer": "ipython3",
      "version": "3.8.8"
    },
    "toc": {
      "base_numbering": 1,
      "nav_menu": {},
      "number_sections": true,
      "sideBar": true,
      "skip_h1_title": false,
      "title_cell": "Table of Contents",
      "title_sidebar": "Contents",
      "toc_cell": false,
      "toc_position": {},
      "toc_section_display": true,
      "toc_window_display": false
    },
    "colab": {
      "provenance": []
    }
  },
  "nbformat": 4,
  "nbformat_minor": 5
}